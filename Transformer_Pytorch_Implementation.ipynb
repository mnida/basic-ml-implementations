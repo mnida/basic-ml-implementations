{
  "nbformat": 4,
  "nbformat_minor": 0,
  "metadata": {
    "colab": {
      "provenance": [],
      "authorship_tag": "ABX9TyP9zQna/FbzKK51w7eFdYR6"
    },
    "kernelspec": {
      "name": "python3",
      "display_name": "Python 3"
    },
    "language_info": {
      "name": "python"
    }
  },
  "cells": [
    {
      "cell_type": "code",
      "source": [
        "!pip install einops"
      ],
      "metadata": {
        "colab": {
          "base_uri": "https://localhost:8080/"
        },
        "id": "jrOO3850Fb0V",
        "outputId": "ad6db428-f945-48a8-8391-e42a84026e04"
      },
      "execution_count": 2,
      "outputs": [
        {
          "output_type": "stream",
          "name": "stdout",
          "text": [
            "Collecting einops\n",
            "  Downloading einops-0.7.0-py3-none-any.whl (44 kB)\n",
            "\u001b[2K     \u001b[90m━━━━━━━━━━━━━━━━━━━━━━━━━━━━━━━━━━━━━━━━\u001b[0m \u001b[32m44.6/44.6 kB\u001b[0m \u001b[31m572.2 kB/s\u001b[0m eta \u001b[36m0:00:00\u001b[0m\n",
            "\u001b[?25hInstalling collected packages: einops\n",
            "Successfully installed einops-0.7.0\n"
          ]
        }
      ]
    },
    {
      "cell_type": "code",
      "execution_count": 3,
      "metadata": {
        "id": "zH9r4gIaFLya"
      },
      "outputs": [],
      "source": [
        "import torch\n",
        "import einops\n",
        "import torch.nn.functional as F"
      ]
    },
    {
      "cell_type": "code",
      "source": [
        "# Some code for data"
      ],
      "metadata": {
        "id": "9w0LfOS-FW6T"
      },
      "execution_count": null,
      "outputs": []
    },
    {
      "cell_type": "code",
      "source": [
        "def MLP()"
      ],
      "metadata": {
        "id": "IfxCHdz4G2Zd"
      },
      "execution_count": null,
      "outputs": []
    },
    {
      "cell_type": "code",
      "source": [
        "def Attention(X):\n",
        "\n",
        "  K = torch.nn.param\n",
        "\n",
        "\n",
        "class Transformer():\n",
        "\n",
        "  def __init__(self, hidden_dims = 2048, num_heads=10, num_layers=5):\n",
        "    self.hidden_dims = hidden_dims\n",
        "    self.num_heads= num_heads\n",
        "    self.num_layers = num_layers\n",
        "\n",
        "\n",
        "  def forward(X,y):\n",
        "    pass\n"
      ],
      "metadata": {
        "id": "fkZIgfwzFYGP"
      },
      "execution_count": null,
      "outputs": []
    },
    {
      "cell_type": "code",
      "source": [
        "iterations= 1000\n",
        "lr = 0.001"
      ],
      "metadata": {
        "id": "pQd3PlzaFzf3"
      },
      "execution_count": null,
      "outputs": []
    },
    {
      "cell_type": "code",
      "source": [
        "model = Transformer()\n",
        "optim = torch.optim.Adam(model.parameters(), lr=lr)\n",
        "criterion = torch.nn.CrossEntropyLoss()\n",
        "\n",
        "for _ in iterations:\n",
        "  for x,y in train_dataloader:\n",
        "    optim.zero_grad()\n",
        "    total_loss = 30\n",
        "    preds = model(x)\n",
        "    loss = criterion(preds,y)\n",
        "\n",
        "    loss.backward()\n",
        "    optim.step()\n"
      ],
      "metadata": {
        "id": "XUOsb3eOF7fJ"
      },
      "execution_count": null,
      "outputs": []
    }
  ]
}